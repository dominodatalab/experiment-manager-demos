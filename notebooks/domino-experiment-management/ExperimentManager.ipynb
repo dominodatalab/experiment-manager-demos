{
 "cells": [
  {
   "cell_type": "code",
   "execution_count": null,
   "id": "3483ed8c-cf80-4cd3-b949-f37af5b7074e",
   "metadata": {},
   "outputs": [],
   "source": [
    "import mlflow\n",
    "from sklearn.linear_model import LogisticRegression\n",
    "from sklearn.model_selection import train_test_split\n",
    "from sklearn import datasets\n",
    "import pandas as pd\n",
    "from mlflow.models import infer_signature, ModelSignature\n",
    "from mlflow.types import Schema, ColSpec"
   ]
  },
  {
   "cell_type": "code",
   "execution_count": null,
   "id": "e6648eb5-aff9-498a-b9bd-aa00d4c5351c",
   "metadata": {},
   "outputs": [],
   "source": [
    "# Loading data\n",
    "data = datasets.load_breast_cancer()\n",
    "# Splitting the data into train and test sets\n",
    "X_train, X_test, y_train, y_test = train_test_split(data.data, \n",
    "                                                    data.target,\n",
    "                                                    stratify=data.target)\n",
    "# Instantiating and fitting the model\n",
    "model = LogisticRegression(max_iter=1000)            \n",
    "model.fit(X=X_train, y=y_train)\n"
   ]
  },
  {
   "cell_type": "code",
   "execution_count": null,
   "id": "25c049a3-93d2-40cc-b7d8-8edb0b7fa4ef",
   "metadata": {},
   "outputs": [],
   "source": [
    "# Converting train features into a DataFrame\n",
    "X_train_df = pd.DataFrame(data=X_train, columns=data.feature_names)\n",
    "\n",
    "# Inferring the input signature\n",
    "signature = infer_signature(model_input=X_train_df, \n",
    "                           model_output=model.predict(X_test))"
   ]
  },
  {
   "cell_type": "code",
   "execution_count": null,
   "id": "69b89b1a-8bfe-4099-92e2-31b0549b3d17",
   "metadata": {},
   "outputs": [],
   "source": [
    "signature"
   ]
  },
  {
   "cell_type": "code",
   "execution_count": null,
   "id": "800392af-b7b6-46a0-8531-5046e5700870",
   "metadata": {},
   "outputs": [],
   "source": [
    "# Creating an input schema for the breast cancer dataset\n",
    "input_schema = Schema(inputs=[ColSpec(type=\"double\", name=feature_name) \n",
    "                              for feature_name in data.feature_names])\n",
    "\n",
    "# Creating an output schema for the breast cancer dataset\n",
    "output_schema = Schema(inputs=[ColSpec(\"double\")])\n",
    "\n",
    "# Creating a signature from our schemas\n",
    "signature = ModelSignature(inputs=input_schema, outputs=output_schema)"
   ]
  },
  {
   "cell_type": "code",
   "execution_count": null,
   "id": "591f7d5d-f106-4910-bc4f-1fec79805ae0",
   "metadata": {},
   "outputs": [],
   "source": []
  },
  {
   "cell_type": "code",
   "execution_count": null,
   "id": "97475e35-f0af-4e88-b653-5bd07ac6981e",
   "metadata": {},
   "outputs": [],
   "source": [
    "# Example input schema for the Iris dataset\n",
    "'''\n",
    "input_schema = Schema(inputs=[\n",
    "    ColSpec(type=\"double\", name=\"sepal length (cm)\"),\n",
    "    ColSpec(type=\"double\", name=\"sepal width (cm)\"),\n",
    "    ColSpec(type=\"double\", name=\"petal length (cm)\"),\n",
    "    ColSpec(type=\"double\", name=\"petal width (cm)\"),\n",
    "])\n",
    "# Example input schema for the Iris dataset\n",
    "output_schema = Schema(inputs=[ColSpec(type=\"long\")])\n",
    "signature = ModelSignature(inputs=input_schema, outputs=output_schema)\n",
    "'''"
   ]
  },
  {
   "cell_type": "code",
   "execution_count": null,
   "id": "aa5b84b5-0584-487a-b512-888264249197",
   "metadata": {},
   "outputs": [],
   "source": [
    "# Saving the model. Note the path. This will save the model under /mnt/model\n",
    "input_example = X_train_df.iloc[:1]\n",
    "mlflow.sklearn.save_model(sk_model=model, \n",
    "                          path=\"model-3\", \n",
    "                          signature=signature,\n",
    "                          input_example=input_example)"
   ]
  },
  {
   "cell_type": "code",
   "execution_count": null,
   "id": "1fd3a6bc-b5c3-4db0-81e1-8def23e5d943",
   "metadata": {},
   "outputs": [],
   "source": [
    "client = mlflow.MlflowClient()\n"
   ]
  },
  {
   "cell_type": "code",
   "execution_count": null,
   "id": "23f0e2ad-b5ed-4fd5-8138-37347fe9c3b1",
   "metadata": {},
   "outputs": [],
   "source": [
    "# Saving the model as an artifact in a run\n",
    "from mlflow.store.artifact.runs_artifact_repo import RunsArtifactRepository\n",
    "import emoji\n",
    "with mlflow.start_run() as run:\n",
    "    # Obtaining the ID of this run\n",
    "    run_id = run.info.run_id\n",
    "    # Logging our model\n",
    "    model_info = mlflow.sklearn.log_model(sk_model=model, \n",
    "                             artifact_path=\"model\",  \n",
    "                             signature=signature,\n",
    "                             input_example=input_example,\n",
    "                             pip_requirements=[],\n",
    "                             registered_model_name='workshop')\n"
   ]
  },
  {
   "cell_type": "code",
   "execution_count": null,
   "id": "8d04ea1d-5f99-405d-9c51-e623b43342d3",
   "metadata": {},
   "outputs": [],
   "source": [
    "# Saving the model as an artifact in a run\n",
    "from mlflow.store.artifact.runs_artifact_repo import RunsArtifactRepository\n",
    "import emoji\n",
    "with mlflow.start_run() as run:\n",
    "    # Obtaining the ID of this run\n",
    "    run_id = run.info.run_id\n",
    "    # Logging our model\n",
    "    model_info = mlflow.sklearn.log_model(sk_model=model, \n",
    "                             artifact_path=\"model\",  \n",
    "                             signature=signature,\n",
    "                             input_example=input_example,\n",
    "                             pip_requirements=[],\n",
    "                             registered_model_name='workshop')\n"
   ]
  },
  {
   "cell_type": "markdown",
   "id": "092ab1d8-2389-4f6a-aab3-078a77f516bc",
   "metadata": {},
   "source": [
    "## How do I access custom artifacts inside the Model API Pod\n",
    "\n",
    "1. In your workspace, add the custom file to the model artfacts. In this workbook that path is `/mnt/model`\n",
    "2. Assume you have a file `initmodel.yaml` which is needed to inside the model code\n",
    "3. Add this file to `/mnt/model/initmodel.yaml`\n",
    "4. Register the model after the file is added\n",
    "```\n",
    "    model_info = mlflow.sklearn.log_model(sk_model=model, \n",
    "                             artifact_path=\"model\",  \n",
    "                             signature=signature,\n",
    "                             input_example=input_example,\n",
    "                             pip_requirements=[],\n",
    "                             registered_model_name='workshop')\n",
    "```\n",
    "5. In the the predict function of the model you want to read this file `initmodel.yaml`\n",
    "6. Access as follows:\n",
    "```\n",
    "import os\n",
    "path_to_model_artifacts = os.environ['MLFLOW_MODEL_URI']\n",
    "my_file = f\"{path_to_model_artifacts}/initmodel.yaml\"\n",
    "#And now in the prediction function access your file\n",
    "\n",
    "```"
   ]
  }
 ],
 "metadata": {
  "kernelspec": {
   "display_name": "Python 3 (ipykernel)",
   "language": "python",
   "name": "python3"
  },
  "language_info": {
   "codemirror_mode": {
    "name": "ipython",
    "version": 3
   },
   "file_extension": ".py",
   "mimetype": "text/x-python",
   "name": "python",
   "nbconvert_exporter": "python",
   "pygments_lexer": "ipython3",
   "version": "3.9.18"
  }
 },
 "nbformat": 4,
 "nbformat_minor": 5
}
