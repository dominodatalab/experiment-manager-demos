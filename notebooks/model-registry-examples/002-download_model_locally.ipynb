{
 "cells": [
  {
   "cell_type": "code",
   "execution_count": null,
   "id": "cf4f3b4a-07c1-4e3d-99c9-2d7bc2b973f7",
   "metadata": {
    "tags": []
   },
   "outputs": [],
   "source": [
    "import os\n",
    "import mlflow.sklearn\n",
    "from mlflow.store.artifact.runs_artifact_repo import RunsArtifactRepository\n",
    "from mlflow import MlflowClient\n",
    "from sklearn.ensemble import RandomForestRegressor\n",
    "\n"
   ]
  },
  {
   "cell_type": "code",
   "execution_count": null,
   "id": "1c9b8ae5-7863-412d-8170-90aa878dbc70",
   "metadata": {
    "tags": []
   },
   "outputs": [],
   "source": [
    "client = MlflowClient()"
   ]
  },
  {
   "cell_type": "code",
   "execution_count": null,
   "id": "e7b86864-db72-4afe-86b0-b694d0326a04",
   "metadata": {
    "tags": []
   },
   "outputs": [],
   "source": [
    "# Register model name in the model registry\n",
    "name = \"RandomForestRegression_app\" \n",
    "\n",
    "registered_model = client.create_registered_model(name)"
   ]
  },
  {
   "cell_type": "code",
   "execution_count": null,
   "id": "27b8c950-662f-4c22-a221-a03b6524da0f",
   "metadata": {
    "tags": []
   },
   "outputs": [],
   "source": [
    "domino_project_id = os.environ['DOMINO_PROJECT_ID']"
   ]
  },
  {
   "cell_type": "code",
   "execution_count": null,
   "id": "c25cab5f-9cbb-4b7d-adf1-ce08f1fd26c3",
   "metadata": {
    "tags": []
   },
   "outputs": [],
   "source": [
    "# create an experiment run in MLflow and register a model version\n",
    "#Domino Experiments names are required to be unique globally. Hence adding the project id\n",
    "mlflow.set_experiment(f'download-model-{domino_project_id}')\n",
    "params = {\"n_estimators\": 3, \"random_state\": 42}\n",
    "rfr = RandomForestRegressor(**params).fit([[0, 1]], [1])\n",
    "# Log MLflow entities\n",
    "with mlflow.start_run() as run:\n",
    "    mlflow.log_params(params)\n",
    "    model_info = mlflow.sklearn.log_model(rfr, artifact_path=\"sklearn-model\")\n",
    "    runs_uri = model_info.model_uri\n",
    "    \n",
    "    # Create a new model version of the RandomForestRegression model from this run\n",
    "    desc = \"A testing version of the model\"\n",
    "    model_src = RunsArtifactRepository.get_underlying_uri(runs_uri)\n",
    "    mv = client.create_model_version(name, model_src, run.info.run_id, description=desc)\n",
    "    print(\"Name: {}\".format(mv.name))\n",
    "    print(\"Version: {}\".format(mv.version))\n",
    "    print(\"Description: {}\".format(mv.description))\n",
    "    print(\"Status: {}\".format(mv.status))\n",
    "    print(\"Stage: {}\".format(mv.current_stage))\n"
   ]
  },
  {
   "cell_type": "code",
   "execution_count": null,
   "id": "7e7aecae-5283-44e8-b287-f8c996372d2f",
   "metadata": {},
   "outputs": [],
   "source": [
    "print(\"You created your first registered model!\")\n",
    "print(f\"Go to the Models UI and click on the {name} model to see the Model Card.\")\n"
   ]
  },
  {
   "cell_type": "code",
   "execution_count": null,
   "id": "f39de763-28d1-4e19-b5ba-3b89c5a39551",
   "metadata": {
    "tags": []
   },
   "outputs": [],
   "source": [
    "directory_path = os.getcwd()+'/artifacts'\n",
    "\n",
    "os.makedirs(directory_path, exist_ok=True)"
   ]
  },
  {
   "cell_type": "code",
   "execution_count": null,
   "id": "fa009e57-c30d-4eeb-8e92-b9792eadeb0d",
   "metadata": {
    "tags": []
   },
   "outputs": [],
   "source": [
    "artifact_path = \"sklearn-model\"\n",
    "model_name = mv.name\n",
    "model_version = mv.version\n",
    "client = MlflowClient()\n",
    "mv = client.get_model_version(model_name, model_version)\n",
    "\n",
    "dst_path = f\"{directory_path}/models/{model_name}/v{model_version}\"\n",
    "downloaded_artifacts_path = mlflow.artifacts.download_artifacts(artifact_uri=mv.source, dst_path=dst_path)\n",
    "\n",
    "print(mv.run_id)\n",
    "print(mlflow.pyfunc.get_model_dependencies(mv.source))\n",
    "##Browse the folder for the model\n",
    "print(dst_path)"
   ]
  },
  {
   "cell_type": "code",
   "execution_count": null,
   "id": "cdae02bb-5033-4767-b6a8-b11d28d06468",
   "metadata": {
    "tags": []
   },
   "outputs": [],
   "source": [
    "loaded_model = mlflow.pyfunc.load_model(f\"{dst_path}/sklearn-model\")"
   ]
  },
  {
   "cell_type": "code",
   "execution_count": null,
   "id": "08b5a012-6d4d-4064-b7f6-2dd9e0e68ef8",
   "metadata": {
    "tags": []
   },
   "outputs": [],
   "source": [
    "#Make a prediction\n",
    "loaded_model.predict([[20,0]])"
   ]
  },
  {
   "cell_type": "markdown",
   "id": "9483d2fa-65d5-4d0a-8706-7d07aa7ee9b1",
   "metadata": {},
   "source": [
    "## Use Models from Model Registry in the App\n",
    "\n",
    "To use the model in the App Commit this workspace and add the `artifacts` folder to your repo. The App can then simply load the model from there and use it\n",
    "\n",
    "   ```\n",
    "   loaded_model = mlflow.pyfunc.load_model(f\"{dst_path}/sklearn-model\")\n",
    "   loaded_model.predict([[20,0]])\n",
    "   ```\n",
    "\n"
   ]
  },
  {
   "cell_type": "code",
   "execution_count": null,
   "id": "558cb4c5-7183-4893-821b-9db21d15bcec",
   "metadata": {
    "tags": []
   },
   "outputs": [],
   "source": [
    "#Using Run Id to download artifacts\n",
    "run_id='722499c8b7d74ff1b85677b4554dfa2e'\n",
    "artifact_path = \"sklearn-model\"\n",
    "dst_path = f\"{directory_path}/runs/{run_id}\"\n",
    "downloaded_artifacts_path = mlflow.artifacts.download_artifacts(run_id=run_id, \n",
    "                                                                artifact_path=artifact_path,\n",
    "                                                                dst_path=dst_path)\n",
    "\n",
    "print(f\"Downloaded Artifacts Path = {downloaded_artifacts_path}\")\n",
    "loaded_model = mlflow.pyfunc.load_model(f\"{dst_path}/sklearn-model\")\n",
    "loaded_model.predict([[20,0]])"
   ]
  },
  {
   "cell_type": "code",
   "execution_count": null,
   "id": "a2ed0311-46ef-4ff4-aa63-7e6c7a39c2d4",
   "metadata": {
    "tags": []
   },
   "outputs": [],
   "source": [
    "!jupyter nbconvert --ClearOutputPreprocessor.enabled=True --inplace *.ipynb"
   ]
  },
  {
   "cell_type": "code",
   "execution_count": null,
   "id": "da017259-7b41-4339-aaad-42f10706df83",
   "metadata": {},
   "outputs": [],
   "source": []
  }
 ],
 "metadata": {
  "dca-init": "true",
  "kernelspec": {
   "display_name": "Python 3 (ipykernel)",
   "language": "python",
   "name": "python3"
  },
  "language_info": {
   "codemirror_mode": {
    "name": "ipython",
    "version": 3
   },
   "file_extension": ".py",
   "mimetype": "text/x-python",
   "name": "python",
   "nbconvert_exporter": "python",
   "pygments_lexer": "ipython3",
   "version": "3.9.16"
  }
 },
 "nbformat": 4,
 "nbformat_minor": 5
}
