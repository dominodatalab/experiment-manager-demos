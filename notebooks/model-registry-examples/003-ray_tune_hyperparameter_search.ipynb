{
 "cells": [
  {
   "cell_type": "code",
   "execution_count": null,
   "id": "47d86df3-4c72-4f0a-a886-c56ce9c2b0a8",
   "metadata": {
    "tags": []
   },
   "outputs": [],
   "source": [
    "import os\n",
    "import sys\n",
    "sys.path.append(\"/mnt/code/\")"
   ]
  },
  {
   "cell_type": "code",
   "execution_count": null,
   "id": "a86210d2-b6c9-4e08-b6e4-de5ac860bd03",
   "metadata": {
    "tags": []
   },
   "outputs": [],
   "source": [
    "import os\n",
    "import tempfile\n",
    "import time\n",
    "import ray\n",
    "from ray import air, tune\n",
    "from ray.air import session\n",
    "import mlflow\n",
    "\n",
    "import jwt\n",
    "import json\n",
    "import warnings\n",
    "import sys\n",
    "import pandas as pd\n",
    "import numpy as np\n",
    "from sklearn.metrics import mean_squared_error, mean_absolute_error, r2_score\n",
    "from sklearn.model_selection import train_test_split\n",
    "from sklearn.linear_model import ElasticNet\n",
    "from urllib.parse import urlparse\n",
    "import mlflow\n",
    "import mlflow.sklearn\n",
    "import logging\n",
    "logging.basicConfig(level=logging.WARN)\n",
    "logger = logging.getLogger(__name__)"
   ]
  },
  {
   "cell_type": "code",
   "execution_count": null,
   "id": "42c2f22c-c279-4151-91cf-81a31827d175",
   "metadata": {
    "tags": []
   },
   "outputs": [],
   "source": [
    "def eval_metrics(actual, pred):\n",
    "    rmse = np.sqrt(mean_squared_error(actual, pred))\n",
    "    mae = mean_absolute_error(actual, pred)\n",
    "    r2 = r2_score(actual, pred)\n",
    "    return rmse, mae, r2\n",
    "\n",
    "def train_function(config):\n",
    "    csv_url = (\n",
    "         \"http://archive.ics.uci.edu/ml/machine-learning-databases/wine-quality/winequality-red.csv\"\n",
    "    )\n",
    "    try:\n",
    "         data = pd.read_csv(csv_url, sep=\";\")\n",
    "    except Exception as e:\n",
    "         logger.exception(\n",
    "              \"Unable to download training & test CSV, check your internet connection. Error: %s\", e\n",
    "          )\n",
    "\n",
    "    # Split the data into training and test sets. (0.75, 0.25) split.\n",
    "    train, test = train_test_split(data)\n",
    "    # The predicted column is \"quality\" which is a scalar from [3, 9]\n",
    "    train_x = train.drop([\"quality\"], axis=1)\n",
    "    test_x = test.drop([\"quality\"], axis=1)\n",
    "    train_y = train[[\"quality\"]]\n",
    "    test_y = test[[\"quality\"]]\n",
    "    alpha = config['alpha']\n",
    "    l1_ratio = config['l1_ratio']\n",
    "    lr = ElasticNet(alpha=alpha, l1_ratio=l1_ratio, random_state=42)\n",
    "    lr.fit(train_x, train_y)\n",
    "    predicted_qualities = lr.predict(test_x)\n",
    "\n",
    "    (rmse, mae, r2) = eval_metrics(test_y, predicted_qualities)\n",
    "\n",
    "    print(\"Elasticnet model (alpha=%f, l1_ratio=%f):\" % (alpha, l1_ratio))\n",
    "    print(\"  RMSE: %s\" % rmse)\n",
    "    print(\"  MAE: %s\" % mae)\n",
    "    print(\"  R2: %s\" % r2)\n",
    "    \n",
    "    # Feed the score back to Tune.\n",
    "    session.report({\"rmse\": rmse, \"mae\": mae, \"r-squared\": r2})\n",
    " "
   ]
  },
  {
   "cell_type": "code",
   "execution_count": null,
   "id": "74fb242e-548a-4aa5-9cf1-c392ba4543da",
   "metadata": {
    "tags": []
   },
   "outputs": [],
   "source": [
    "\n",
    "        \n",
    "def tune_with_callback(mlflow_tracking_uri, experiment_name,finish_fast=False):\n",
    "    print(f\"Experiment Name {experiment_name}\")\n",
    "    mlflow.set_experiment(experiment_name)\n",
    "    if mlflow.active_run():\n",
    "        # End the active run\n",
    "        mlflow.end_run()\n",
    "    mlflow.start_run(run_name=\"GridSearchTrials\")\n",
    "    # Generate values from 0.1 to 0.9 with step size of 0.1\n",
    "    alpha_values = np.arange(0.1, 0.5, 0.1)\n",
    "    l1_ratio_values = np.arange(0.5, 0.8, 0.1)\n",
    "\n",
    "    cb = MyMLflowLoggerCallback(\n",
    "                    tracking_uri=mlflow_tracking_uri,\n",
    "                    experiment_name=experiment_name,\n",
    "                    save_artifact=True,\n",
    "                    tags={\"mlflow.parentRunId\": mlflow.active_run().info.run_id},\n",
    "                )\n",
    "\n",
    "\n",
    "    # Tuner configuration with updated param_space\n",
    "    tuner = tune.Tuner(\n",
    "        train_function,\n",
    "        run_config=air.RunConfig(\n",
    "            name=\"mlflow\",\n",
    "            callbacks=[cb]\n",
    "        ),\n",
    "        param_space={\n",
    "            \"alpha\": tune.grid_search(alpha_values),\n",
    "            \"l1_ratio\": tune.grid_search(l1_ratio_values),\n",
    "        },\n",
    "    )\n",
    "    ### With fixed number of samples\n",
    "    '''\n",
    "    tuner = tune.Tuner(\n",
    "        train_function,\n",
    "        tune_config=tune.TuneConfig(num_samples=15),\n",
    "        run_config=air.RunConfig(\n",
    "            name=\"mlflow\",\n",
    "            callbacks=[cb],\n",
    "        ),\n",
    "        param_space={\n",
    "            \"alpha\":  tune.choice(alpha_values),\n",
    "            \"l1_ratio\": tune.choice(l1_ratio_values)\n",
    "        },\n",
    "    )\n",
    "    '''\n",
    "    results = tuner.fit()\n",
    "    mlflow.end_run()\n"
   ]
  },
  {
   "cell_type": "code",
   "execution_count": null,
   "id": "9dfb3675-dc5f-4b71-984c-1f1831367f3c",
   "metadata": {
    "tags": []
   },
   "outputs": [],
   "source": [
    "temp_dir='/tmp'\n",
    "\n",
    "if not ray.is_initialized():\n",
    "    service_host = os.environ[\"RAY_HEAD_SERVICE_HOST\"]\n",
    "    service_port = os.environ[\"RAY_HEAD_SERVICE_PORT\"]\n",
    "    address=f\"ray://{service_host}:{service_port}\"\n",
    "    ray.init(address=address)\n",
    "\n",
    "experiment_name = 'RAY_HYPERPARAMETER_TUNING'+'-' + os.environ['DOMINO_STARTING_USERNAME'] + '-' + os.environ['DOMINO_PROJECT_NAME']\n",
    "tune_with_callback(os.environ['CLUSTER_MLFLOW_TRACKING_URI'], experiment_name,finish_fast=True)\n",
    "df = mlflow.search_runs(\n",
    "        [mlflow.get_experiment_by_name(experiment_name).experiment_id]\n",
    "    )\n"
   ]
  },
  {
   "cell_type": "code",
   "execution_count": null,
   "id": "b19b1afd-7c14-4abf-a466-d924fa96b341",
   "metadata": {
    "tags": []
   },
   "outputs": [],
   "source": [
    "print(df)"
   ]
  },
  {
   "cell_type": "code",
   "execution_count": null,
   "id": "bc1bd8b0-f48e-40ea-84df-5440a1489654",
   "metadata": {
    "tags": []
   },
   "outputs": [],
   "source": [
    "#!jupyter nbconvert --ClearOutputPreprocessor.enabled=True --inplace *.ipynb"
   ]
  },
  {
   "cell_type": "code",
   "execution_count": null,
   "id": "f098ce41-e95d-475d-8ca4-1bf5121fc1cc",
   "metadata": {},
   "outputs": [],
   "source": []
  }
 ],
 "metadata": {
  "dca-init": "true",
  "kernelspec": {
   "display_name": "Python 3 (ipykernel)",
   "language": "python",
   "name": "python3"
  },
  "language_info": {
   "codemirror_mode": {
    "name": "ipython",
    "version": 3
   },
   "file_extension": ".py",
   "mimetype": "text/x-python",
   "name": "python",
   "nbconvert_exporter": "python",
   "pygments_lexer": "ipython3",
   "version": "3.9.16"
  }
 },
 "nbformat": 4,
 "nbformat_minor": 5
}
