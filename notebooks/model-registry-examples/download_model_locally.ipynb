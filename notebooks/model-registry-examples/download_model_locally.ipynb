{
 "cells": [
  {
   "cell_type": "code",
   "execution_count": 2,
   "id": "cf4f3b4a-07c1-4e3d-99c9-2d7bc2b973f7",
   "metadata": {},
   "outputs": [],
   "source": [
    "import os\n",
    "import mlflow.sklearn\n",
    "from mlflow.store.artifact.runs_artifact_repo import RunsArtifactRepository\n",
    "from mlflow import MlflowClient\n",
    "from sklearn.ensemble import RandomForestRegressor\n",
    "\n"
   ]
  },
  {
   "cell_type": "code",
   "execution_count": 3,
   "id": "1c9b8ae5-7863-412d-8170-90aa878dbc70",
   "metadata": {},
   "outputs": [],
   "source": [
    "client = MlflowClient()"
   ]
  },
  {
   "cell_type": "code",
   "execution_count": 3,
   "id": "e7b86864-db72-4afe-86b0-b694d0326a04",
   "metadata": {},
   "outputs": [],
   "source": [
    "# Register model name in the model registry\n",
    "name = \"RandomForestRegression_app\" \n",
    "registered_model = client.create_registered_model(name)"
   ]
  },
  {
   "cell_type": "code",
   "execution_count": 4,
   "id": "27b8c950-662f-4c22-a221-a03b6524da0f",
   "metadata": {},
   "outputs": [],
   "source": [
    "domino_project_id = os.environ['DOMINO_PROJECT_ID']"
   ]
  },
  {
   "cell_type": "code",
   "execution_count": 5,
   "id": "c25cab5f-9cbb-4b7d-adf1-ce08f1fd26c3",
   "metadata": {},
   "outputs": [
    {
     "name": "stderr",
     "output_type": "stream",
     "text": [
      "2024/09/18 17:57:56 INFO mlflow.tracking.fluent: Experiment with name 'download-model-66b3618bffe62d0ab852cd05' does not exist. Creating a new experiment.\n",
      "2024/09/18 17:58:02 INFO mlflow.store.model_registry.abstract_store: Waiting up to 300 seconds for model version to finish creation. Model name: RandomForestRegression_app, version 1\n"
     ]
    },
    {
     "name": "stdout",
     "output_type": "stream",
     "text": [
      "Name: RandomForestRegression_app\n",
      "Version: 1\n",
      "Description: A testing version of the model\n",
      "Status: READY\n",
      "Stage: None\n"
     ]
    }
   ],
   "source": [
    "# create an experiment run in MLflow and register a model version\n",
    "#Domino Experiments names are required to be unique globally. Hence adding the project id\n",
    "mlflow.set_experiment(f'download-model-{domino_project_id}')\n",
    "params = {\"n_estimators\": 3, \"random_state\": 42}\n",
    "rfr = RandomForestRegressor(**params).fit([[0, 1]], [1])\n",
    "# Log MLflow entities\n",
    "with mlflow.start_run() as run:\n",
    "    mlflow.log_params(params)\n",
    "    model_info = mlflow.sklearn.log_model(rfr, artifact_path=\"sklearn-model\")\n",
    "    runs_uri = model_info.model_uri\n",
    "    \n",
    "    # Create a new model version of the RandomForestRegression model from this run\n",
    "    desc = \"A testing version of the model\"\n",
    "    model_src = RunsArtifactRepository.get_underlying_uri(runs_uri)\n",
    "    mv = client.create_model_version(name, model_src, run.info.run_id, description=desc)\n",
    "    print(\"Name: {}\".format(mv.name))\n",
    "    print(\"Version: {}\".format(mv.version))\n",
    "    print(\"Description: {}\".format(mv.description))\n",
    "    print(\"Status: {}\".format(mv.status))\n",
    "    print(\"Stage: {}\".format(mv.current_stage))\n"
   ]
  },
  {
   "cell_type": "code",
   "execution_count": 14,
   "id": "7e7aecae-5283-44e8-b287-f8c996372d2f",
   "metadata": {},
   "outputs": [
    {
     "name": "stdout",
     "output_type": "stream",
     "text": [
      "You created your first registered model!\n",
      "Go to the Models UI and click on the RandomForestRegression_app model to see the Model Card.\n"
     ]
    }
   ],
   "source": [
    "print(\"You created your first registered model!\")\n",
    "print(f\"Go to the Models UI and click on the {name} model to see the Model Card.\")\n"
   ]
  },
  {
   "cell_type": "code",
   "execution_count": 4,
   "id": "f39de763-28d1-4e19-b5ba-3b89c5a39551",
   "metadata": {},
   "outputs": [],
   "source": [
    "directory_path = os.getcwd()+'/artifacts'\n",
    "\n",
    "os.makedirs(directory_path, exist_ok=True)"
   ]
  },
  {
   "cell_type": "code",
   "execution_count": 16,
   "id": "fa009e57-c30d-4eeb-8e92-b9792eadeb0d",
   "metadata": {},
   "outputs": [
    {
     "data": {
      "application/vnd.jupyter.widget-view+json": {
       "model_id": "73f5a522271142ba91fb3ec0f412c1a9",
       "version_major": 2,
       "version_minor": 0
      },
      "text/plain": [
       "Downloading artifacts:   0%|          | 0/9 [00:00<?, ?it/s]"
      ]
     },
     "metadata": {},
     "output_type": "display_data"
    },
    {
     "name": "stdout",
     "output_type": "stream",
     "text": [
      "722499c8b7d74ff1b85677b4554dfa2e\n"
     ]
    },
    {
     "data": {
      "application/vnd.jupyter.widget-view+json": {
       "model_id": "3bfc81bc42094d3ba48b6cd6016c411c",
       "version_major": 2,
       "version_minor": 0
      },
      "text/plain": [
       "Downloading artifacts:   0%|          | 0/9 [00:00<?, ?it/s]"
      ]
     },
     "metadata": {},
     "output_type": "display_data"
    },
    {
     "name": "stderr",
     "output_type": "stream",
     "text": [
      "2024/09/18 18:03:43 INFO mlflow.pyfunc: To install the dependencies that were used to train the model, run the following command: '%pip install -r /tmp/tmpx6u0hii5/sklearn-model/requirements.txt'.\n"
     ]
    },
    {
     "name": "stdout",
     "output_type": "stream",
     "text": [
      "/tmp/tmpx6u0hii5/sklearn-model/requirements.txt\n"
     ]
    }
   ],
   "source": [
    "artifact_path = \"sklearn-model\"\n",
    "model_name = mv.name\n",
    "model_version = mv.version\n",
    "client = MlflowClient()\n",
    "mv = client.get_model_version(model_name, model_version)\n",
    "\n",
    "dst_path = f\"{directory_path}/models/{model_name}/v{model_version}\"\n",
    "downloaded_artifacts_path = mlflow.artifacts.download_artifacts(artifact_uri=mv.source, dst_path=dst_path)\n",
    "\n",
    "print(mv.run_id)\n",
    "print(mlflow.pyfunc.get_model_dependencies(mv.source))\n",
    "##Browse the folder for the model"
   ]
  },
  {
   "cell_type": "code",
   "execution_count": 17,
   "id": "cdae02bb-5033-4767-b6a8-b11d28d06468",
   "metadata": {},
   "outputs": [],
   "source": [
    "loaded_model = mlflow.pyfunc.load_model(f\"{dst_path}/sklearn-model\")"
   ]
  },
  {
   "cell_type": "code",
   "execution_count": 18,
   "id": "08b5a012-6d4d-4064-b7f6-2dd9e0e68ef8",
   "metadata": {},
   "outputs": [
    {
     "data": {
      "text/plain": [
       "array([1.])"
      ]
     },
     "execution_count": 18,
     "metadata": {},
     "output_type": "execute_result"
    }
   ],
   "source": [
    "#Make a prediction\n",
    "loaded_model.predict([[20,0]])"
   ]
  },
  {
   "cell_type": "markdown",
   "id": "9483d2fa-65d5-4d0a-8706-7d07aa7ee9b1",
   "metadata": {},
   "source": [
    "## Use Models from Model Registry in the App\n",
    "\n",
    "To use the model in the App Commit this workspace and add the `artifacts` folder to your repo. The App can then simply load the model from there and use it\n",
    "\n",
    "   ```\n",
    "   loaded_model = mlflow.pyfunc.load_model(f\"{dst_path}/sklearn-model\")\n",
    "   loaded_model.predict([[20,0]])\n",
    "   ```\n",
    "\n"
   ]
  },
  {
   "cell_type": "code",
   "execution_count": 7,
   "id": "558cb4c5-7183-4893-821b-9db21d15bcec",
   "metadata": {},
   "outputs": [
    {
     "data": {
      "application/vnd.jupyter.widget-view+json": {
       "model_id": "126f366a69514cffaeb7f28a34b04fe5",
       "version_major": 2,
       "version_minor": 0
      },
      "text/plain": [
       "Downloading artifacts:   0%|          | 0/9 [00:00<?, ?it/s]"
      ]
     },
     "metadata": {},
     "output_type": "display_data"
    },
    {
     "name": "stdout",
     "output_type": "stream",
     "text": [
      "Downloaded Artifacts Path = /mnt/code/notebooks/model-registry-examples/artifacts/runs/722499c8b7d74ff1b85677b4554dfa2e/sklearn-model\n"
     ]
    },
    {
     "data": {
      "text/plain": [
       "array([1.])"
      ]
     },
     "execution_count": 7,
     "metadata": {},
     "output_type": "execute_result"
    }
   ],
   "source": [
    "#Using Run Id to download artifacts\n",
    "run_id='722499c8b7d74ff1b85677b4554dfa2e'\n",
    "artifact_path = \"sklearn-model\"\n",
    "dst_path = f\"{directory_path}/runs/{run_id}\"\n",
    "downloaded_artifacts_path = mlflow.artifacts.download_artifacts(run_id=run_id, \n",
    "                                                                artifact_path=artifact_path,\n",
    "                                                                dst_path=dst_path)\n",
    "\n",
    "print(f\"Downloaded Artifacts Path = {downloaded_artifacts_path}\")\n",
    "loaded_model = mlflow.pyfunc.load_model(f\"{dst_path}/sklearn-model\")\n",
    "loaded_model.predict([[20,0]])"
   ]
  },
  {
   "cell_type": "code",
   "execution_count": null,
   "id": "a2ed0311-46ef-4ff4-aa63-7e6c7a39c2d4",
   "metadata": {},
   "outputs": [],
   "source": []
  }
 ],
 "metadata": {
  "kernelspec": {
   "display_name": "Python 3 (ipykernel)",
   "language": "python",
   "name": "python3"
  },
  "language_info": {
   "codemirror_mode": {
    "name": "ipython",
    "version": 3
   },
   "file_extension": ".py",
   "mimetype": "text/x-python",
   "name": "python",
   "nbconvert_exporter": "python",
   "pygments_lexer": "ipython3",
   "version": "3.10.14"
  }
 },
 "nbformat": 4,
 "nbformat_minor": 5
}
